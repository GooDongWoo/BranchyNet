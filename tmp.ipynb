{
 "cells": [
  {
   "cell_type": "code",
   "execution_count": 39,
   "metadata": {},
   "outputs": [],
   "source": [
    "class par:\n",
    "    def __init__(self,a,b):\n",
    "        self.a = a\n",
    "        self.b = b\n",
    "\n",
    "class child(par):\n",
    "    def __init__(self,a,b):\n",
    "        super(child,self).__init__(a,b)\n",
    "        \n",
    "chi1=child(10,20)"
   ]
  },
  {
   "cell_type": "code",
   "execution_count": 116,
   "metadata": {},
   "outputs": [
    {
     "name": "stdout",
     "output_type": "stream",
     "text": [
      "a=\n",
      "tensor([[ 0.8830, -0.8265,  0.6362, -0.4201, -0.2250, -1.4247, -0.6597,  1.5984,\n",
      "          0.2875,  1.5997],\n",
      "        [ 3.8289,  0.4250,  0.4108,  1.2038,  2.3458, -2.2086,  0.4905,  1.6665,\n",
      "         -0.9503, -0.4359]])\n",
      "b=\n",
      "tensor([[ 0.0607,  0.3049,  0.5939,  1.3977,  0.7941, -0.8824,  0.2194,  0.8692,\n",
      "          0.5795,  0.6582],\n",
      "        [-0.0560, -0.6084,  0.5360, -1.0408, -0.4995, -0.7207,  0.4404,  0.7315,\n",
      "          0.4114,  0.5191]])\n",
      "after a=\n",
      "tensor([[0.1330, 0.0241, 0.1039, 0.0361, 0.0439, 0.0132, 0.0284, 0.2719, 0.0733,\n",
      "         0.2722],\n",
      "        [0.6490, 0.0216, 0.0213, 0.0470, 0.1473, 0.0015, 0.0230, 0.0747, 0.0055,\n",
      "         0.0091]])\n"
     ]
    }
   ],
   "source": [
    "import torch\n",
    "import torch.nn as nn\n",
    "a=torch.randn(2,10)\n",
    "print(f'a=\\n{a}')\n",
    "b=torch.randn(2,10)\n",
    "print(f'b=\\n{b}')\n",
    "c=torch.mul(a,b)\n",
    "#print(torch.log(a)*b)\n",
    "a=nn.functional.softmax(a,dim=-1)\n",
    "print(f'after a=\\n{a}')"
   ]
  }
 ],
 "metadata": {
  "kernelspec": {
   "display_name": "_torch",
   "language": "python",
   "name": "python3"
  },
  "language_info": {
   "codemirror_mode": {
    "name": "ipython",
    "version": 3
   },
   "file_extension": ".py",
   "mimetype": "text/x-python",
   "name": "python",
   "nbconvert_exporter": "python",
   "pygments_lexer": "ipython3",
   "version": "3.9.7"
  }
 },
 "nbformat": 4,
 "nbformat_minor": 2
}
